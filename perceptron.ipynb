{
 "cells": [
  {
   "cell_type": "code",
<<<<<<< HEAD
   "execution_count": 1,
   "metadata": {},
   "outputs": [],
   "source": [
    "import numpy as np"
   ]
  },
  {
   "cell_type": "code",
   "execution_count": null,
   "metadata": {},
   "outputs": [],
   "source": []
=======
   "execution_count": null,
   "metadata": {},
   "outputs": [],
   "source": [
    "import numpy as np\n"
   ]
>>>>>>> af86abf748611a16dfde3b1bafb82e043e8a053f
  }
 ],
 "metadata": {
  "kernelspec": {
<<<<<<< HEAD
   "display_name": "Python 3.9.12 ('base')",
=======
   "display_name": "Python 3.10.6 64-bit",
>>>>>>> af86abf748611a16dfde3b1bafb82e043e8a053f
   "language": "python",
   "name": "python3"
  },
  "language_info": {
<<<<<<< HEAD
   "codemirror_mode": {
    "name": "ipython",
    "version": 3
   },
   "file_extension": ".py",
   "mimetype": "text/x-python",
   "name": "python",
   "nbconvert_exporter": "python",
   "pygments_lexer": "ipython3",
   "version": "3.9.12"
=======
   "name": "python",
   "version": "3.10.6"
>>>>>>> af86abf748611a16dfde3b1bafb82e043e8a053f
  },
  "orig_nbformat": 4,
  "vscode": {
   "interpreter": {
<<<<<<< HEAD
    "hash": "70dfe2d2e6890c6571feadfe93b4fa53ea425920cc95829db8dcf7910bfb38d8"
=======
    "hash": "916dbcbb3f70747c44a77c7bcd40155683ae19c65e1c03b4aa3499c5328201f1"
>>>>>>> af86abf748611a16dfde3b1bafb82e043e8a053f
   }
  }
 },
 "nbformat": 4,
 "nbformat_minor": 2
}
